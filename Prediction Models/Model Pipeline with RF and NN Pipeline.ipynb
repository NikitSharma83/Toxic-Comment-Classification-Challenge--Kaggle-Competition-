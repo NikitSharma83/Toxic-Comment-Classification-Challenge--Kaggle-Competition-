{
 "cells": [
  {
   "cell_type": "markdown",
   "metadata": {},
   "source": [
    "### Imports for this Notebook"
   ]
  },
  {
   "cell_type": "code",
   "execution_count": 1,
   "metadata": {},
   "outputs": [
    {
     "name": "stderr",
     "output_type": "stream",
     "text": [
      "C:\\Users\\sharm\\Anaconda2\\lib\\site-packages\\sklearn\\cross_validation.py:41: DeprecationWarning: This module was deprecated in version 0.18 in favor of the model_selection module into which all the refactored classes and functions are moved. Also note that the interface of the new CV iterators are different from that of this module. This module will be removed in 0.20.\n",
      "  \"This module will be removed in 0.20.\", DeprecationWarning)\n"
     ]
    }
   ],
   "source": [
    "%matplotlib inline\n",
    "import matplotlib.pyplot as plt\n",
    "import matplotlib as mpl\n",
    "import pandas as pd\n",
    "import numpy as np\n",
    "from sklearn.feature_extraction.text import CountVectorizer\n",
    "from sklearn.ensemble import RandomForestClassifier\n",
    "from sklearn.decomposition import PCA, TruncatedSVD\n",
    "from sklearn.model_selection import StratifiedShuffleSplit\n",
    "from sklearn.cross_validation import cross_val_score\n",
    "from scipy.sparse import hstack\n",
    "from sklearn.neural_network import MLPClassifier, BernoulliRBM"
   ]
  },
  {
   "cell_type": "markdown",
   "metadata": {},
   "source": [
    "### Read data"
   ]
  },
  {
   "cell_type": "code",
   "execution_count": 2,
   "metadata": {
    "scrolled": false
   },
   "outputs": [
    {
     "data": {
      "text/html": [
       "<div>\n",
       "<style>\n",
       "    .dataframe thead tr:only-child th {\n",
       "        text-align: right;\n",
       "    }\n",
       "\n",
       "    .dataframe thead th {\n",
       "        text-align: left;\n",
       "    }\n",
       "\n",
       "    .dataframe tbody tr th {\n",
       "        vertical-align: top;\n",
       "    }\n",
       "</style>\n",
       "<table border=\"1\" class=\"dataframe\">\n",
       "  <thead>\n",
       "    <tr style=\"text-align: right;\">\n",
       "      <th></th>\n",
       "      <th>id</th>\n",
       "      <th>comment_text</th>\n",
       "      <th>toxic</th>\n",
       "      <th>severe_toxic</th>\n",
       "      <th>obscene</th>\n",
       "      <th>threat</th>\n",
       "      <th>insult</th>\n",
       "      <th>identity_hate</th>\n",
       "    </tr>\n",
       "  </thead>\n",
       "  <tbody>\n",
       "    <tr>\n",
       "      <th>0</th>\n",
       "      <td>0000997932d777bf</td>\n",
       "      <td>Explanation\\nWhy the edits made under my usern...</td>\n",
       "      <td>0</td>\n",
       "      <td>0</td>\n",
       "      <td>0</td>\n",
       "      <td>0</td>\n",
       "      <td>0</td>\n",
       "      <td>0</td>\n",
       "    </tr>\n",
       "    <tr>\n",
       "      <th>1</th>\n",
       "      <td>000103f0d9cfb60f</td>\n",
       "      <td>D'aww! He matches this background colour I'm s...</td>\n",
       "      <td>0</td>\n",
       "      <td>0</td>\n",
       "      <td>0</td>\n",
       "      <td>0</td>\n",
       "      <td>0</td>\n",
       "      <td>0</td>\n",
       "    </tr>\n",
       "    <tr>\n",
       "      <th>2</th>\n",
       "      <td>000113f07ec002fd</td>\n",
       "      <td>Hey man, I'm really not trying to edit war. It...</td>\n",
       "      <td>0</td>\n",
       "      <td>0</td>\n",
       "      <td>0</td>\n",
       "      <td>0</td>\n",
       "      <td>0</td>\n",
       "      <td>0</td>\n",
       "    </tr>\n",
       "    <tr>\n",
       "      <th>3</th>\n",
       "      <td>0001b41b1c6bb37e</td>\n",
       "      <td>\"\\nMore\\nI can't make any real suggestions on ...</td>\n",
       "      <td>0</td>\n",
       "      <td>0</td>\n",
       "      <td>0</td>\n",
       "      <td>0</td>\n",
       "      <td>0</td>\n",
       "      <td>0</td>\n",
       "    </tr>\n",
       "    <tr>\n",
       "      <th>4</th>\n",
       "      <td>0001d958c54c6e35</td>\n",
       "      <td>You, sir, are my hero. Any chance you remember...</td>\n",
       "      <td>0</td>\n",
       "      <td>0</td>\n",
       "      <td>0</td>\n",
       "      <td>0</td>\n",
       "      <td>0</td>\n",
       "      <td>0</td>\n",
       "    </tr>\n",
       "  </tbody>\n",
       "</table>\n",
       "</div>"
      ],
      "text/plain": [
       "                 id                                       comment_text  toxic  \\\n",
       "0  0000997932d777bf  Explanation\\nWhy the edits made under my usern...      0   \n",
       "1  000103f0d9cfb60f  D'aww! He matches this background colour I'm s...      0   \n",
       "2  000113f07ec002fd  Hey man, I'm really not trying to edit war. It...      0   \n",
       "3  0001b41b1c6bb37e  \"\\nMore\\nI can't make any real suggestions on ...      0   \n",
       "4  0001d958c54c6e35  You, sir, are my hero. Any chance you remember...      0   \n",
       "\n",
       "   severe_toxic  obscene  threat  insult  identity_hate  \n",
       "0             0        0       0       0              0  \n",
       "1             0        0       0       0              0  \n",
       "2             0        0       0       0              0  \n",
       "3             0        0       0       0              0  \n",
       "4             0        0       0       0              0  "
      ]
     },
     "execution_count": 2,
     "metadata": {},
     "output_type": "execute_result"
    }
   ],
   "source": [
    "# Read the data\n",
    "\n",
    "# path to the train data file\n",
    "INDATA_LOCATION = 'C:/Users/sharm/Desktop/Dat5Melb/Final_Project/train/train.csv'\n",
    "\n",
    "# utility definitions for easier handling of the dataset column names\n",
    "TEXT_COLUMN = 'comment_text'\n",
    "CLASS_TOXIC, CLASS_SEVER_TOXIC, CLASS_OBSCENE, CLASS_THREAT, CLASS_INSULT, \\\n",
    "    CLASS_IDENTITY_HATE = [\"toxic\", \"severe_toxic\", \"obscene\", \"threat\", \\\n",
    "                           \"insult\", \"identity_hate\"]\n",
    "CLASSES = [CLASS_TOXIC, CLASS_SEVER_TOXIC, CLASS_OBSCENE, CLASS_THREAT, CLASS_INSULT, CLASS_IDENTITY_HATE]\n",
    "\n",
    "def read_data(filename):\n",
    "    return pd.read_csv(filename) \n",
    "\n",
    "# read the comments and associated classification data \n",
    "dataDf = read_data(INDATA_LOCATION)\n",
    "\n",
    "dataDf.head()"
   ]
  },
  {
   "cell_type": "markdown",
   "metadata": {},
   "source": [
    "### Basic data characteristics"
   ]
  },
  {
   "cell_type": "code",
   "execution_count": 3,
   "metadata": {},
   "outputs": [
    {
     "name": "stdout",
     "output_type": "stream",
     "text": [
      "Number of data points: 159571\n",
      "Number data points of type toxic: 15294\n",
      "Number data points of type severe_toxic: 1595\n",
      "Number data points of type obscene: 8449\n",
      "Number data points of type threat: 478\n",
      "Number data points of type insult: 7877\n",
      "Number data points of type identity_hate: 1405\n"
     ]
    }
   ],
   "source": [
    "def basic_characteristics(df):\n",
    "    print('Number of data points: %d' %len(df))\n",
    "    for klass in CLASSES:\n",
    "        print('Number data points of type %s: %d' %(klass, len(df[df[klass]==1])))        \n",
    "basic_characteristics(dataDf)"
   ]
  },
  {
   "cell_type": "code",
   "execution_count": 4,
   "metadata": {},
   "outputs": [
    {
     "data": {
      "image/png": "[encoded data removed]",
      "text/plain": [
       "<matplotlib.figure.Figure at 0x8ab1a90>"
      ]
     },
     "metadata": {},
     "output_type": "display_data"
    }
   ],
   "source": [
    "labels, counts = np.unique(dataDf[CLASSES].sum(axis=1), return_counts=True)\n",
    "plt.bar(labels, counts, align='center')\n",
    "plt.gca().set_title('Histogram of number of classes per datapoint')\n",
    "plt.gca().set_xlabel('Number of classes per datapoint')\n",
    "plt.gca().set_xticks(labels)\n",
    "plt.show()"
   ]
  },
  {
   "cell_type": "markdown",
   "metadata": {},
   "source": [
    "### Embed text in vector space\n",
    "\n",
    "Using a simple count based vectorizer to embed the comment text into vector space in preparation for building classification models."
   ]
  },
  {
   "cell_type": "code",
   "execution_count": 5,
   "metadata": {
    "collapsed": true
   },
   "outputs": [],
   "source": [
    "# create a class for vectorizing and embedding operations\n",
    "class CommentVectorizer:\n",
    "    \n",
    "    # conventional instance method reference to parent instance and define a list object\n",
    "    def __init__(self):\n",
    "        # create a list object (self._) which is visible to all other methods inside the class\n",
    "        # (will remian alive till the instance of the class is destroyed)\n",
    "        self._vectorizers = []\n",
    "    \n",
    "    # initialise paramterised vectoriser count function\n",
    "    def get_count_vectorizer(self, max_features = 1000, ngram_range = (1, 2), \n",
    "                             stop_words = 'english', binary = True):\n",
    "        \"\"\"\n",
    "        Initializes a count vectorizer with parameters set by the user and \n",
    "        returns an index in the internal vector array where the vectorizer\n",
    "        has been placed. We dont want any external entity manipulating the\n",
    "        vectorizer state directly.\n",
    "        \"\"\"\n",
    "        # append the input parameters to vectoriser list object instantiated above\n",
    "        self._vectorizers.append(CountVectorizer(max_features = max_features, \n",
    "                                                 ngram_range = ngram_range, \n",
    "                                                 stop_words = stop_words,\n",
    "                                                 binary = binary))\n",
    "        \n",
    "        # pass the count of objects in the list to the function. subtract 1 to align index as python inidces start from 0.\n",
    "        return len(self._vectorizers) - 1\n",
    "    \n",
    "    \n",
    "    def _exists(self, vectorizer):\n",
    "        \"\"\"\n",
    "        Checks if the vectorizer index provided points to a valid vectorizer.\n",
    "        \"\"\"\n",
    "        if vectorizer < 0 or len(self._vectorizers) <= vectorizer:\n",
    "            raise Exception('Vectorizer index out of bound.')\n",
    "            \n",
    "        if self._vectorizers[vectorizer] == None:\n",
    "            raise Exception('Vectorizer not initialized.')\n",
    "            \n",
    "        pass\n",
    "    \n",
    "    def fit(self, comments = [], vectorizer = -1):\n",
    "        self._exists(vectorizer)\n",
    "        self._vectorizers[vectorizer].fit(comments)\n",
    "        \n",
    "    def transform(self, comments, vectorizer):\n",
    "        self._exists(vectorizer)\n",
    "        return self._vectorizers[vectorizer].transform(comments)"
   ]
  },
  {
   "cell_type": "code",
   "execution_count": 6,
   "metadata": {
    "collapsed": true
   },
   "outputs": [],
   "source": [
    "# initialize a count vectorizer for this experiment    \n",
    "commentVectorizer = CommentVectorizer()\n",
    "vectorizer = commentVectorizer.get_count_vectorizer()\n",
    "commentVectorizer.fit(dataDf[TEXT_COLUMN], vectorizer)\n",
    "\n",
    "# embed comments into vector space\n",
    "commentVectors = commentVectorizer.transform(dataDf[TEXT_COLUMN], vectorizer)"
   ]
  },
  {
   "cell_type": "code",
   "execution_count": 7,
   "metadata": {},
   "outputs": [
    {
     "data": {
      "text/plain": [
       "Text(0.5,1,u'Scatter plot of the comment vectors (reduced)')"
      ]
     },
     "execution_count": 7,
     "metadata": {},
     "output_type": "execute_result"
    },
    {
     "data": {
      "image/png": "[encoded data removed]",
      "text/plain": [
       "<matplotlib.figure.Figure at 0x17b89198>"
      ]
     },
     "metadata": {},
     "output_type": "display_data"
    }
   ],
   "source": [
    "# fit LSI (Latent Semantic Indexing) model to commentVectors\n",
    "# and generate projections of commentVectors in a 2-d space \n",
    "# using 2 components (linear combinations of words).\n",
    "\n",
    "coords = TruncatedSVD(n_components=2).fit_transform(commentVectors)\n",
    "plt.scatter(coords[:,0], coords[:,1], color ='red')\n",
    "plt.title('Scatter plot of the comment vectors (reduced)')"
   ]
  },
  {
   "cell_type": "markdown",
   "metadata": {},
   "source": [
    "### Create modeling and evaluation sets"
   ]
  },
  {
   "cell_type": "code",
   "execution_count": 8,
   "metadata": {},
   "outputs": [
    {
     "name": "stdout",
     "output_type": "stream",
     "text": [
      "Modeling data size: 143613\n",
      "Number of data points: 143613\n",
      "Number data points of type toxic: 13757\n",
      "Number data points of type severe_toxic: 1442\n",
      "Number data points of type obscene: 7593\n",
      "Number data points of type threat: 435\n",
      "Number data points of type insult: 7105\n",
      "Number data points of type identity_hate: 1254\n",
      "Evaluation data size: 15958\n",
      "Number of data points: 15958\n",
      "Number data points of type toxic: 1537\n",
      "Number data points of type severe_toxic: 153\n",
      "Number data points of type obscene: 856\n",
      "Number data points of type threat: 43\n",
      "Number data points of type insult: 772\n",
      "Number data points of type identity_hate: 151\n"
     ]
    }
   ],
   "source": [
    "# shuffle and split the dataset stratified by the number of classifications of a data point\n",
    "# for balancing across resulting modeling and evaluation datasets\n",
    "\n",
    "# instantiate StratifiedShuffleSplit for a single split iteration with a test dataset size of ~ 10% of population \n",
    "# and train dataset size of ~ 90% of the population and a random number generator seed of 0\n",
    "sss = StratifiedShuffleSplit(n_splits=1, test_size=0.1, random_state=0)\n",
    "\n",
    "# for balancing across resulting modeling and evaluation datasets, the y split parameter \n",
    "# generates a row sum for each data point which is used for the train vs test stratification\n",
    "for train_index, test_index in sss.split(np.zeros(len(dataDf)), dataDf[CLASSES].sum(axis=1)):\n",
    "    pass\n",
    "\n",
    "# modeling dataset\n",
    "\"\"\" build modeling vectors sparse matrix based on train indices \"\"\"\n",
    "modeling_vectors = commentVectors[train_index]\n",
    "\"\"\" build modeling classes dataset by pointing to train indices \"\"\"\n",
    "modeling_classes = dataDf[CLASSES].loc[train_index]\n",
    "print('Modeling data size: %d' %len(modeling_classes))\n",
    "basic_characteristics(modeling_classes)\n",
    "\n",
    "# evaluation dataset\n",
    "\"\"\" build evalutation vectors sparse matrix based on test indices \"\"\"\n",
    "evaluation_vectors = commentVectors[test_index]\n",
    "\"\"\" build evaluation classes dataset by pointing to test indices \"\"\"\n",
    "evaluation_classes = dataDf[CLASSES].loc[test_index]\n",
    "print('Evaluation data size: %d' %len(evaluation_classes))\n",
    "basic_characteristics(evaluation_classes)"
   ]
  },
  {
   "cell_type": "markdown",
   "metadata": {},
   "source": [
    "### Build Level 1 Classifier on Modeling Dataset"
   ]
  },
  {
   "cell_type": "code",
   "execution_count": 13,
   "metadata": {
    "scrolled": true
   },
   "outputs": [
    {
     "name": "stdout",
     "output_type": "stream",
     "text": [
      "||class toxic||\n",
      "CV AUC [ 0.85459147  0.85986251  0.86178765], Average AUC 0.858747213017\n",
      "||class severe_toxic||\n",
      "CV AUC [ 0.89390193  0.91991876  0.90081093], Average AUC 0.904877209364\n",
      "||class obscene||\n",
      "CV AUC [ 0.88727239  0.89570084  0.9064027 ], Average AUC 0.896458641561\n",
      "||class threat||\n",
      "CV AUC [ 0.71964194  0.7829516   0.79531297], Average AUC 0.765968837439\n",
      "||class insult||\n",
      "CV AUC [ 0.87532001  0.8673431   0.88074674], Average AUC 0.874469951051\n",
      "||class identity_hate||\n",
      "CV AUC [ 0.79307617  0.81821754  0.81372609], Average AUC 0.80833993014\n"
     ]
    }
   ],
   "source": [
    "# instantiate a RandomForestClassifier\n",
    "model = RandomForestClassifier(n_estimators = 20)\n",
    "\n",
    "# set the dependent variable and perform ROC-AUC cross-validation for each of the 6 classes\n",
    "for a in CLASSES: \n",
    "    print ('||class {}||'.format(a))\n",
    "    y = modeling_classes[a]\n",
    "    scores = cross_val_score(model, modeling_vectors, y, scoring='roc_auc')\n",
    "    print('CV AUC {}, Average AUC {}'.format(scores, scores.mean()))"
   ]
  },
  {
   "cell_type": "markdown",
   "metadata": {},
   "source": [
    "### Predict Individual Class Probabilities"
   ]
  },
  {
   "cell_type": "code",
   "execution_count": 15,
   "metadata": {
    "collapsed": true
   },
   "outputs": [],
   "source": [
    "# predict individual class probabilities and store them in dataframe\n",
    "\n",
    "dfproba = pd.DataFrame(0, index=np.arange(len(modeling_classes)), columns=['dummy'])\n",
    "\n",
    "for a in CLASSES:    \n",
    "    y = modeling_classes[a]\n",
    "    model.fit(modeling_vectors, y)\n",
    "    proba = model.predict_proba(modeling_vectors)\n",
    "    dfproba = hstack((dfproba,pd.DataFrame(data=proba)))"
   ]
  },
  {
   "cell_type": "code",
   "execution_count": 16,
   "metadata": {},
   "outputs": [
    {
     "data": {
      "text/html": [
       "<div>\n",
       "<style>\n",
       "    .dataframe thead tr:only-child th {\n",
       "        text-align: right;\n",
       "    }\n",
       "\n",
       "    .dataframe thead th {\n",
       "        text-align: left;\n",
       "    }\n",
       "\n",
       "    .dataframe tbody tr th {\n",
       "        vertical-align: top;\n",
       "    }\n",
       "</style>\n",
       "<table border=\"1\" class=\"dataframe\">\n",
       "  <thead>\n",
       "    <tr style=\"text-align: right;\">\n",
       "      <th></th>\n",
       "      <th>0</th>\n",
       "      <th>1</th>\n",
       "      <th>2</th>\n",
       "      <th>3</th>\n",
       "      <th>4</th>\n",
       "      <th>5</th>\n",
       "      <th>6</th>\n",
       "      <th>7</th>\n",
       "      <th>8</th>\n",
       "      <th>9</th>\n",
       "      <th>10</th>\n",
       "      <th>11</th>\n",
       "      <th>12</th>\n",
       "    </tr>\n",
       "  </thead>\n",
       "  <tbody>\n",
       "    <tr>\n",
       "      <th>0</th>\n",
       "      <td>0.0</td>\n",
       "      <td>1.000000</td>\n",
       "      <td>0.000000</td>\n",
       "      <td>1.000000</td>\n",
       "      <td>0.000000</td>\n",
       "      <td>0.950000</td>\n",
       "      <td>0.050000</td>\n",
       "      <td>1.000000</td>\n",
       "      <td>0.000000</td>\n",
       "      <td>1.000000</td>\n",
       "      <td>0.000000</td>\n",
       "      <td>1.000000</td>\n",
       "      <td>0.000000</td>\n",
       "    </tr>\n",
       "    <tr>\n",
       "      <th>1</th>\n",
       "      <td>0.0</td>\n",
       "      <td>0.000000</td>\n",
       "      <td>1.000000</td>\n",
       "      <td>0.725000</td>\n",
       "      <td>0.275000</td>\n",
       "      <td>0.000000</td>\n",
       "      <td>1.000000</td>\n",
       "      <td>0.950000</td>\n",
       "      <td>0.050000</td>\n",
       "      <td>0.883333</td>\n",
       "      <td>0.116667</td>\n",
       "      <td>0.950000</td>\n",
       "      <td>0.050000</td>\n",
       "    </tr>\n",
       "    <tr>\n",
       "      <th>2</th>\n",
       "      <td>0.0</td>\n",
       "      <td>0.911667</td>\n",
       "      <td>0.088333</td>\n",
       "      <td>1.000000</td>\n",
       "      <td>0.000000</td>\n",
       "      <td>0.937500</td>\n",
       "      <td>0.062500</td>\n",
       "      <td>1.000000</td>\n",
       "      <td>0.000000</td>\n",
       "      <td>1.000000</td>\n",
       "      <td>0.000000</td>\n",
       "      <td>1.000000</td>\n",
       "      <td>0.000000</td>\n",
       "    </tr>\n",
       "    <tr>\n",
       "      <th>3</th>\n",
       "      <td>0.0</td>\n",
       "      <td>0.874747</td>\n",
       "      <td>0.125253</td>\n",
       "      <td>0.979464</td>\n",
       "      <td>0.020536</td>\n",
       "      <td>0.965705</td>\n",
       "      <td>0.034295</td>\n",
       "      <td>0.982726</td>\n",
       "      <td>0.017274</td>\n",
       "      <td>0.960139</td>\n",
       "      <td>0.039861</td>\n",
       "      <td>0.982441</td>\n",
       "      <td>0.017559</td>\n",
       "    </tr>\n",
       "    <tr>\n",
       "      <th>4</th>\n",
       "      <td>0.0</td>\n",
       "      <td>1.000000</td>\n",
       "      <td>0.000000</td>\n",
       "      <td>1.000000</td>\n",
       "      <td>0.000000</td>\n",
       "      <td>1.000000</td>\n",
       "      <td>0.000000</td>\n",
       "      <td>1.000000</td>\n",
       "      <td>0.000000</td>\n",
       "      <td>1.000000</td>\n",
       "      <td>0.000000</td>\n",
       "      <td>1.000000</td>\n",
       "      <td>0.000000</td>\n",
       "    </tr>\n",
       "  </tbody>\n",
       "</table>\n",
       "</div>"
      ],
      "text/plain": [
       "    0         1         2         3         4         5         6         7   \\\n",
       "0  0.0  1.000000  0.000000  1.000000  0.000000  0.950000  0.050000  1.000000   \n",
       "1  0.0  0.000000  1.000000  0.725000  0.275000  0.000000  1.000000  0.950000   \n",
       "2  0.0  0.911667  0.088333  1.000000  0.000000  0.937500  0.062500  1.000000   \n",
       "3  0.0  0.874747  0.125253  0.979464  0.020536  0.965705  0.034295  0.982726   \n",
       "4  0.0  1.000000  0.000000  1.000000  0.000000  1.000000  0.000000  1.000000   \n",
       "\n",
       "         8         9         10        11        12  \n",
       "0  0.000000  1.000000  0.000000  1.000000  0.000000  \n",
       "1  0.050000  0.883333  0.116667  0.950000  0.050000  \n",
       "2  0.000000  1.000000  0.000000  1.000000  0.000000  \n",
       "3  0.017274  0.960139  0.039861  0.982441  0.017559  \n",
       "4  0.000000  1.000000  0.000000  1.000000  0.000000  "
      ]
     },
     "execution_count": 16,
     "metadata": {},
     "output_type": "execute_result"
    }
   ],
   "source": [
    "dfproba1 = dfproba.toarray()\n",
    "dfproba2 = pd.DataFrame(data=dfproba1)\n",
    "dfproba2.head()"
   ]
  },
  {
   "cell_type": "markdown",
   "metadata": {},
   "source": [
    "### <font color='purple'>Placeholder for further analysis and building Level 2 Classification Model</font>"
   ]
  },
  {
   "cell_type": "code",
   "execution_count": 11,
   "metadata": {},
   "outputs": [
    {
     "name": "stdout",
     "output_type": "stream",
     "text": [
      "MSE: 0.050813\n"
     ]
    }
   ],
   "source": [
    "# import a classifier that can handle multiple classifiers and \n",
    "# performs intermediate transforms and fit being implemented by the final estimator\n",
    "from sklearn.pipeline import Pipeline\n",
    "\n",
    "# import a classifier that can perform multi-target classification\n",
    "from sklearn.multioutput import MultiOutputClassifier\n",
    "\n",
    "# define a class for classification operations\n",
    "class ExtendedMultiOutputClassifier(MultiOutputClassifier):\n",
    "    \n",
    "    \n",
    "    def transform(self, X):\n",
    "        \"\"\"\n",
    "        Add a transform method to the classifier because it is mandatory for steps of a pipeline\n",
    "        to provide fit and transform methods.\n",
    "        \"\"\"\n",
    "        _o = self.predict_proba(X)\n",
    "        return np.concatenate(_o, axis=1)\n",
    "\n",
    "# specify the order in which pipeline should execute the classifiers/estimators    \n",
    "\n",
    "moc = ExtendedMultiOutputClassifier(RandomForestClassifier(n_estimators = 20, class_weight = 'balanced'))\n",
    "\n",
    "nnc = MLPClassifier(solver='lbfgs', alpha=1e-5, hidden_layer_sizes=(15,), random_state=1)\n",
    "\n",
    "# specify the order in which pipeline should execute the classifiers/estimators\n",
    "clf = Pipeline([('moc_rf', moc), ('nnc', nnc)])\n",
    "\n",
    "# fit all the transforms one after the other and transform the data, then fit the transformed data using the final estimator.\n",
    "clf.fit(modeling_vectors, modeling_classes)\n",
    "\n",
    "# rudimentary test \n",
    "\n",
    "\"\"\"\n",
    "apply transforms, and predict_proba of the final estimator\n",
    "\"\"\"\n",
    "predictions = clf.predict_proba(modeling_vectors)\n",
    "\n",
    "# calculate MSE (mean squared error). note np.dot on full matrix gives \n",
    "# memmory error hence the slow work around\n",
    "\"\"\"\n",
    "calculate the individual differences between predicted classes and modeling classes\n",
    "\"\"\"\n",
    "d = predictions - modeling_classes\n",
    "\"\"\"\n",
    "convert the prediction differences into an MSE score \n",
    "\"\"\"\n",
    "sq_difs = map(lambda x: np.dot(x, x.T), d.as_matrix())\n",
    "print('MSE: %f' %(np.sum(sq_difs) * 1.0 / len(d)))"
   ]
  },
  {
   "cell_type": "markdown",
   "metadata": {},
   "source": [
    "### Evaluation"
   ]
  },
  {
   "cell_type": "code",
   "execution_count": 12,
   "metadata": {},
   "outputs": [
    {
     "name": "stdout",
     "output_type": "stream",
     "text": [
      "MSE: 0.157229\n"
     ]
    }
   ],
   "source": [
    "predictions = clf.predict_proba(evaluation_vectors)\n",
    "\n",
    "# MSE\n",
    "d = predictions - evaluation_classes\n",
    "sq_difs = map(lambda x: np.dot(x, x.T), d.as_matrix())\n",
    "print('MSE: %f' %(np.sum(sq_difs) * 1.0 / len(d)))"
   ]
  },
  {
   "cell_type": "markdown",
   "metadata": {},
   "source": [
    "### <font color='green'>SCRATCHPAD</font>"
   ]
  },
  {
   "cell_type": "code",
   "execution_count": null,
   "metadata": {
    "collapsed": true
   },
   "outputs": [],
   "source": [
    "# dfproba3 = dfproba2.copy()\n",
    "# dfproba3.columns = ['dummy','a','b','c','d','e','f','g','h','i','j','k','l']\n",
    "# dfproba3.dummy.unique()\n",
    "# dfproba3.shape\n",
    "\n",
    "# y = modeling_classes[CLASS_TOXIC]\n",
    "# model.fit(modeling_vectors, y)\n",
    "# proba = model.predict_proba(modeling_vectors)\n",
    "\n",
    "# dftodel = pd.DataFrame(data=proba)\n",
    "# dftodel.head()\n",
    "\n",
    "\n",
    "# test=pd.DataFrame(data=sq_difs)\n",
    "# writer = pd.ExcelWriter('output.xlsx')\n",
    "# test.to_excel(writer,'Sheet1')\n",
    "# writer.save()"
   ]
  },
  {
   "cell_type": "code",
   "execution_count": null,
   "metadata": {
    "collapsed": true
   },
   "outputs": [],
   "source": [
    "# print feature importance\n",
    "# for a in CLASSES: \n",
    "#     print ('||class {}||'.format(a))\n",
    "#     y = modeling_classes[a]\n",
    "#     model.fit(modeling_vectors, y)\n",
    "#     all_feature_names = vectorizer.get_feature_names()\n",
    "#     feature_importances = pd.DataFrame({'Features' : all_feature_names, 'Importance Score': model.feature_importances_})\n",
    "#     feature_importances.sort_values('Importance Score', ascending=False).head(10)"
   ]
  },
  {
   "cell_type": "code",
   "execution_count": null,
   "metadata": {
    "collapsed": true
   },
   "outputs": [],
   "source": [
    "# from nltk.sentiment.vader import SentimentIntensityAnalyzer\n",
    "# SIA = SentimentIntensityAnalyzer()\n",
    "# df.SIA_pos = df.description.map(lambda x: SIA.polarity_scores(x)['pos'])\n",
    "# df.SIA_int = df.description.map(lambda x: SIA.polarity_scores(x)['compound'])\n",
    "# the output is of 4 values, e.g. ['pos'] takes the positivity component of it"
   ]
  }
 ],
 "metadata": {
  "kernelspec": {
   "display_name": "Python [conda env:Anaconda2]",
   "language": "python",
   "name": "conda-env-Anaconda2-py"
  },
  "language_info": {
   "codemirror_mode": {
    "name": "ipython",
    "version": 2
   },
   "file_extension": ".py",
   "mimetype": "text/x-python",
   "name": "python",
   "nbconvert_exporter": "python",
   "pygments_lexer": "ipython2",
   "version": "2.7.14"
  }
 },
 "nbformat": 4,
 "nbformat_minor": 2
}
